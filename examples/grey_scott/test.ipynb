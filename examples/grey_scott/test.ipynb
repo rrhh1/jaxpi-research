{
 "cells": [
  {
   "cell_type": "code",
   "execution_count": 21,
   "metadata": {},
   "outputs": [],
   "source": [
    "import time\n",
    "import os\n",
    "\n",
    "from absl import logging\n",
    "\n",
    "import jax\n",
    "import jax.numpy as jnp\n",
    "from jax import random, vmap\n",
    "from jax.tree_util import tree_map\n",
    "\n",
    "import numpy as np\n",
    "import scipy.io\n",
    "import ml_collections\n",
    "# import wandb\n",
    "\n",
    "from jaxpi.samplers import UniformSampler\n",
    "from jaxpi.logging import Logger\n",
    "from jaxpi.utils import save_checkpoint\n",
    "\n",
    "import models as models\n",
    "import jaxpi.archs as arch\n",
    "from utils import get_dataset\n",
    "\n",
    "import importlib"
   ]
  },
  {
   "cell_type": "code",
   "execution_count": 22,
   "metadata": {},
   "outputs": [],
   "source": [
    "import configs.pirate as pirate\n",
    "\n",
    "config = pirate.get_config()\n",
    "\n",
    "u_ref, v_ref, t_star, x_star, y_star, b1, b2, c1, c2, eps1, eps2 = get_dataset(\n",
    "        config.time_fraction\n",
    "    )\n",
    "\n",
    "# Initial condition of the first time window\n",
    "u0 = u_ref[0, :, :]\n",
    "v0 = v_ref[0, :, :]\n",
    "\n",
    "# Get the time domain for each time window\n",
    "num_time_steps = len(t_star) // config.training.num_time_windows\n",
    "t = t_star[:num_time_steps]\n",
    "\n",
    "# Define the time and space domain\n",
    "dt = t[1] - t[0]\n",
    "t0 = t[0]\n",
    "t1 = t[-1] + 2 * dt\n",
    "# cover the start point of the next time window, which is t_star[num_time_steps]\n",
    "\n",
    "x0 = x_star[0]\n",
    "x1 = x_star[-1]\n",
    "\n",
    "y0 = y_star[0]\n",
    "y1 = y_star[-1]\n",
    "\n",
    "dom = jnp.array([[t0, t1], [x0, x1], [y0, y1]])"
   ]
  },
  {
   "cell_type": "code",
   "execution_count": 74,
   "metadata": {},
   "outputs": [],
   "source": [
    "import jaxpi.models as jm\n",
    "\n",
    "importlib.reload(jm)\n",
    "importlib.reload(models)\n",
    "importlib.reload(arch)\n",
    "\n",
    "model = models.LotteryTicketGreyScott(\n",
    "            config, t, x_star, y_star, u0, v0, b1, b2, c1, c2, eps1, eps2\n",
    ")\n",
    "\n",
    "model.state, model.mask = model.prune_by_percentile(model.state, model.mask, 20)\n",
    "model.state, model.mask = model.original_initialiaztion(model.state, model.mask)"
   ]
  }
 ],
 "metadata": {
  "kernelspec": {
   "display_name": "thesis",
   "language": "python",
   "name": "python3"
  },
  "language_info": {
   "codemirror_mode": {
    "name": "ipython",
    "version": 3
   },
   "file_extension": ".py",
   "mimetype": "text/x-python",
   "name": "python",
   "nbconvert_exporter": "python",
   "pygments_lexer": "ipython3",
   "version": "3.10.13"
  }
 },
 "nbformat": 4,
 "nbformat_minor": 2
}
